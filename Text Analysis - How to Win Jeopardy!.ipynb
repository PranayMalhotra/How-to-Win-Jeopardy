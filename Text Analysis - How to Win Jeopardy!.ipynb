{
 "cells": [
  {
   "cell_type": "markdown",
   "metadata": {},
   "source": [
    "# PROJECT LAYOUT\n",
    "\n",
    "#### The aim of this project is to explore how we can improve our chances of winning the Television game Jeopardy! by checking how often questions\n",
    "\n",
    "#### - are repeated\n",
    "#### - which category of questions has the highest repititions.\n",
    "\n",
    "#### The dataset contains more than 200,000 rows of questions."
   ]
  },
  {
   "cell_type": "markdown",
   "metadata": {},
   "source": [
    "# A. Reading in the Data"
   ]
  },
  {
   "cell_type": "code",
   "execution_count": 28,
   "metadata": {},
   "outputs": [
    {
     "data": {
      "text/html": [
       "<div>\n",
       "<style scoped>\n",
       "    .dataframe tbody tr th:only-of-type {\n",
       "        vertical-align: middle;\n",
       "    }\n",
       "\n",
       "    .dataframe tbody tr th {\n",
       "        vertical-align: top;\n",
       "    }\n",
       "\n",
       "    .dataframe thead th {\n",
       "        text-align: right;\n",
       "    }\n",
       "</style>\n",
       "<table border=\"1\" class=\"dataframe\">\n",
       "  <thead>\n",
       "    <tr style=\"text-align: right;\">\n",
       "      <th></th>\n",
       "      <th>Show Number</th>\n",
       "      <th>Air Date</th>\n",
       "      <th>Round</th>\n",
       "      <th>Category</th>\n",
       "      <th>Value</th>\n",
       "      <th>Question</th>\n",
       "      <th>Answer</th>\n",
       "    </tr>\n",
       "  </thead>\n",
       "  <tbody>\n",
       "    <tr>\n",
       "      <th>0</th>\n",
       "      <td>4680</td>\n",
       "      <td>2004-12-31</td>\n",
       "      <td>Jeopardy!</td>\n",
       "      <td>HISTORY</td>\n",
       "      <td>$200</td>\n",
       "      <td>For the last 8 years of his life, Galileo was ...</td>\n",
       "      <td>Copernicus</td>\n",
       "    </tr>\n",
       "    <tr>\n",
       "      <th>1</th>\n",
       "      <td>4680</td>\n",
       "      <td>2004-12-31</td>\n",
       "      <td>Jeopardy!</td>\n",
       "      <td>ESPN's TOP 10 ALL-TIME ATHLETES</td>\n",
       "      <td>$200</td>\n",
       "      <td>No. 2: 1912 Olympian; football star at Carlisl...</td>\n",
       "      <td>Jim Thorpe</td>\n",
       "    </tr>\n",
       "    <tr>\n",
       "      <th>2</th>\n",
       "      <td>4680</td>\n",
       "      <td>2004-12-31</td>\n",
       "      <td>Jeopardy!</td>\n",
       "      <td>EVERYBODY TALKS ABOUT IT...</td>\n",
       "      <td>$200</td>\n",
       "      <td>The city of Yuma in this state has a record av...</td>\n",
       "      <td>Arizona</td>\n",
       "    </tr>\n",
       "    <tr>\n",
       "      <th>3</th>\n",
       "      <td>4680</td>\n",
       "      <td>2004-12-31</td>\n",
       "      <td>Jeopardy!</td>\n",
       "      <td>THE COMPANY LINE</td>\n",
       "      <td>$200</td>\n",
       "      <td>In 1963, live on \"The Art Linkletter Show\", th...</td>\n",
       "      <td>McDonald's</td>\n",
       "    </tr>\n",
       "    <tr>\n",
       "      <th>4</th>\n",
       "      <td>4680</td>\n",
       "      <td>2004-12-31</td>\n",
       "      <td>Jeopardy!</td>\n",
       "      <td>EPITAPHS &amp; TRIBUTES</td>\n",
       "      <td>$200</td>\n",
       "      <td>Signer of the Dec. of Indep., framer of the Co...</td>\n",
       "      <td>John Adams</td>\n",
       "    </tr>\n",
       "  </tbody>\n",
       "</table>\n",
       "</div>"
      ],
      "text/plain": [
       "   Show Number    Air Date      Round                         Category  Value  \\\n",
       "0         4680  2004-12-31  Jeopardy!                          HISTORY   $200   \n",
       "1         4680  2004-12-31  Jeopardy!  ESPN's TOP 10 ALL-TIME ATHLETES   $200   \n",
       "2         4680  2004-12-31  Jeopardy!      EVERYBODY TALKS ABOUT IT...   $200   \n",
       "3         4680  2004-12-31  Jeopardy!                 THE COMPANY LINE   $200   \n",
       "4         4680  2004-12-31  Jeopardy!              EPITAPHS & TRIBUTES   $200   \n",
       "\n",
       "                                            Question      Answer  \n",
       "0  For the last 8 years of his life, Galileo was ...  Copernicus  \n",
       "1  No. 2: 1912 Olympian; football star at Carlisl...  Jim Thorpe  \n",
       "2  The city of Yuma in this state has a record av...     Arizona  \n",
       "3  In 1963, live on \"The Art Linkletter Show\", th...  McDonald's  \n",
       "4  Signer of the Dec. of Indep., framer of the Co...  John Adams  "
      ]
     },
     "execution_count": 28,
     "metadata": {},
     "output_type": "execute_result"
    }
   ],
   "source": [
    "import pandas as pd\n",
    "\n",
    "jeopardy = pd.read_csv(\"jeopardy.csv\")\n",
    "jeopardy.head(5)"
   ]
  },
  {
   "cell_type": "code",
   "execution_count": 29,
   "metadata": {},
   "outputs": [
    {
     "data": {
      "text/plain": [
       "(216930, 7)"
      ]
     },
     "execution_count": 29,
     "metadata": {},
     "output_type": "execute_result"
    }
   ],
   "source": [
    "jeopardy.shape"
   ]
  },
  {
   "cell_type": "markdown",
   "metadata": {},
   "source": [
    "#### Cleaning the text present in Question and Answer columns"
   ]
  },
  {
   "cell_type": "code",
   "execution_count": 30,
   "metadata": {},
   "outputs": [
    {
     "data": {
      "text/plain": [
       "Index(['Show Number', 'Air Date', 'Round', 'Category', 'Value', 'Question',\n",
       "       'Answer'],\n",
       "      dtype='object')"
      ]
     },
     "execution_count": 30,
     "metadata": {},
     "output_type": "execute_result"
    }
   ],
   "source": [
    "jeopardy.columns = jeopardy.columns.str.strip()\n",
    "jeopardy.columns"
   ]
  },
  {
   "cell_type": "markdown",
   "metadata": {},
   "source": [
    "### We determine how many questions are repeated by checking if a certain question has words in previous questions also.\n",
    "\n",
    "#### Words with only more than 5 letters will be considered as words with lesser no. of letters are usually the, then, etc, which are not meaningful in determining whether a question is repeated or not"
   ]
  },
  {
   "cell_type": "code",
   "execution_count": 31,
   "metadata": {},
   "outputs": [
    {
     "name": "stdout",
     "output_type": "stream",
     "text": [
      "0         for the last 8 years of his life galileo was u...\n",
      "1         no 2 1912 olympian football star at carlisle i...\n",
      "2         the city of yuma in this state has a record av...\n",
      "3         in 1963 live on the art linkletter show this c...\n",
      "4         signer of the dec of indep framer of the const...\n",
      "5         in the title of an aesop fable this insect sha...\n",
      "6         built in 312 bc to link rome  the south of ita...\n",
      "7         no 8 30 steals for the birmingham barons 2306 ...\n",
      "8         in the winter of 197172 a record 1122 inches o...\n",
      "9         this housewares store was named for the packag...\n",
      "10                                           and away we go\n",
      "11        cows regurgitate this from the first stomach t...\n",
      "12        in 1000 rajaraja i of the cholas battled to ta...\n",
      "13        no 1 lettered in hoops football  lacrosse at s...\n",
      "14        on june 28 1994 the natl weather service began...\n",
      "15        this companys accutron watch introduced in 196...\n",
      "16        outlaw murdered by a traitor and a coward whos...\n",
      "17        a small demon or a mischievous child who might...\n",
      "18        karl led the first of these marxist organizati...\n",
      "19        no 10 fblb for columbia u in the 1920s mvp for...\n",
      "20        africas lowest temperature was 11 degrees belo...\n",
      "21        edward teller  this man partnered in 1898 to s...\n",
      "22        1939 oscar winner you are a credit to your cra...\n",
      "23        in geologic time one of these shorter than an ...\n",
      "24        this asian political party was founded in 1885...\n",
      "25        no 5 only center to lead the nba in assists tr...\n",
      "26        the kirschner brothers don  bill named this sk...\n",
      "27        revolutionary war hero his spirit is in vermon...\n",
      "28        a single layer of paper or to perform ones cra...\n",
      "29        a hrefhttpwwwjarchivecommedia20041231dj23mp3be...\n",
      "                                ...                        \n",
      "216900    this baldwin brother was extremely entertainin...\n",
      "216901    he used the strength of his mind when he propo...\n",
      "216902    common species of this duck include bluewinged...\n",
      "216903    as a child joseph conrad pointed to the center...\n",
      "216904    in 1981 he quipped you can tell a lot about a ...\n",
      "216905    it has a museum devoted to composer zoltan kodaly\n",
      "216906    red light winter centers on a love triangle th...\n",
      "216907    sphinx what animal walks on 4 legs in the morn...\n",
      "216908    toco the largest species of this colorful bird...\n",
      "216909    poet gregory corso went on the beat path after...\n",
      "216910    in his prime this athlete said its hard to be ...\n",
      "216911                its home to the holmenkollen ski jump\n",
      "216912    wed like to enlighten you about the musical si...\n",
      "216913    he created the musical riddles called the enig...\n",
      "216914    one species of this bird breeds in the arctic ...\n",
      "216915    in his teens he worked in an assistant das off...\n",
      "216916    oscar wilde called this 4letter word the curse...\n",
      "216917      guyanese capital named for a hanoverian monarch\n",
      "216918    a naughty 18th c novel originally titled memoi...\n",
      "216919    if this riddling belgian surrealist painter bo...\n",
      "216920    nightingales  robins belong to this family of ...\n",
      "216921    her hotsytotsy diaries trace back to one she b...\n",
      "216922    a motto of hers was in politics if you want an...\n",
      "216923                            its on the suriname river\n",
      "216924    in 2006 the cast of this longrunning hit embar...\n",
      "216925    this puccini opera turns on the solution to 3 ...\n",
      "216926    in north america this term is properly applied...\n",
      "216927    in penny lane where this hellraiser grew up th...\n",
      "216928    from ft sill okla he made the plea arizona is ...\n",
      "216929    a silent movie title includes the last name of...\n",
      "Name: clean_question, Length: 216930, dtype: object\n",
      "0                                                copernicus\n",
      "1                                                jim thorpe\n",
      "2                                                   arizona\n",
      "3                                                 mcdonalds\n",
      "4                                                john adams\n",
      "5                                                   the ant\n",
      "6                                            the appian way\n",
      "7                                            michael jordan\n",
      "8                                                washington\n",
      "9                                             crate  barrel\n",
      "10                                           jackie gleason\n",
      "11                                                  the cud\n",
      "12                                      ceylon or sri lanka\n",
      "13                                                jim brown\n",
      "14                                             the uv index\n",
      "15                                                   bulova\n",
      "16                                              jesse james\n",
      "17                                                      imp\n",
      "18                                        the international\n",
      "19                                               lou gehrig\n",
      "20                                                  morocco\n",
      "21                                              paul bonwit\n",
      "22        hattie mcdaniel for her role in gone with the ...\n",
      "23                                                      era\n",
      "24                                       the congress party\n",
      "25                                         wilt chamberlain\n",
      "26                                                       k2\n",
      "27                                              ethan allen\n",
      "28                                                      ply\n",
      "29                                                   horton\n",
      "                                ...                        \n",
      "216900                                         alec baldwin\n",
      "216901                                               samson\n",
      "216902                                             the teal\n",
      "216903                                               africa\n",
      "216904                                        ronald reagan\n",
      "216905                                             budapest\n",
      "216906                                            amsterdam\n",
      "216907                                                  man\n",
      "216908                                             a toucan\n",
      "216909                                       allen ginsberg\n",
      "216910                                         muhammad ali\n",
      "216911                                                 oslo\n",
      "216912                                           siddhartha\n",
      "216913                                         edward elgar\n",
      "216914                                               a tern\n",
      "216915                                 erle stanley gardner\n",
      "216916                                                 work\n",
      "216917                                           georgetown\n",
      "216918                                           fanny hill\n",
      "216919                                             magritte\n",
      "216920                                             thrushes\n",
      "216921                                            anaïs nin\n",
      "216922                                    margaret thatcher\n",
      "216923                                           paramaribo\n",
      "216924                                                stomp\n",
      "216925                                             turandot\n",
      "216926                                           a titmouse\n",
      "216927                                         clive barker\n",
      "216928                                             geronimo\n",
      "216929                       grigori alexandrovich potemkin\n",
      "Name: clean_answer, Length: 216930, dtype: object\n"
     ]
    }
   ],
   "source": [
    "## CLEANING the text \"Question\" and \"Answer\" columns by lower-casing them and removing punctuations!\n",
    "\n",
    "import string\n",
    "\n",
    "jeopardy[\"Answer\"] = jeopardy[\"Answer\"].astype(str)\n",
    "\n",
    "def cleaning_text(jeo_string):\n",
    "    jeo_string = jeo_string.lower()\n",
    "    jeo_string = \"\".join((char for char in jeo_string if char not in string.punctuation))\n",
    "    return jeo_string\n",
    "\n",
    "jeopardy[\"clean_question\"] = jeopardy[\"Question\"].apply(cleaning_text)\n",
    "jeopardy[\"clean_answer\"] = jeopardy[\"Answer\"].apply(cleaning_text)\n",
    "\n",
    "print(jeopardy[\"clean_question\"])\n",
    "print(jeopardy[\"clean_answer\"])"
   ]
  },
  {
   "cell_type": "code",
   "execution_count": 32,
   "metadata": {},
   "outputs": [
    {
     "data": {
      "text/html": [
       "<div>\n",
       "<style scoped>\n",
       "    .dataframe tbody tr th:only-of-type {\n",
       "        vertical-align: middle;\n",
       "    }\n",
       "\n",
       "    .dataframe tbody tr th {\n",
       "        vertical-align: top;\n",
       "    }\n",
       "\n",
       "    .dataframe thead th {\n",
       "        text-align: right;\n",
       "    }\n",
       "</style>\n",
       "<table border=\"1\" class=\"dataframe\">\n",
       "  <thead>\n",
       "    <tr style=\"text-align: right;\">\n",
       "      <th></th>\n",
       "      <th>Show Number</th>\n",
       "      <th>Air Date</th>\n",
       "      <th>Round</th>\n",
       "      <th>Category</th>\n",
       "      <th>Value</th>\n",
       "      <th>clean_question</th>\n",
       "      <th>clean_answer</th>\n",
       "    </tr>\n",
       "  </thead>\n",
       "  <tbody>\n",
       "    <tr>\n",
       "      <th>0</th>\n",
       "      <td>4680</td>\n",
       "      <td>2004-12-31</td>\n",
       "      <td>Jeopardy!</td>\n",
       "      <td>HISTORY</td>\n",
       "      <td>$200</td>\n",
       "      <td>for the last 8 years of his life galileo was u...</td>\n",
       "      <td>copernicus</td>\n",
       "    </tr>\n",
       "    <tr>\n",
       "      <th>1</th>\n",
       "      <td>4680</td>\n",
       "      <td>2004-12-31</td>\n",
       "      <td>Jeopardy!</td>\n",
       "      <td>ESPN's TOP 10 ALL-TIME ATHLETES</td>\n",
       "      <td>$200</td>\n",
       "      <td>no 2 1912 olympian football star at carlisle i...</td>\n",
       "      <td>jim thorpe</td>\n",
       "    </tr>\n",
       "    <tr>\n",
       "      <th>2</th>\n",
       "      <td>4680</td>\n",
       "      <td>2004-12-31</td>\n",
       "      <td>Jeopardy!</td>\n",
       "      <td>EVERYBODY TALKS ABOUT IT...</td>\n",
       "      <td>$200</td>\n",
       "      <td>the city of yuma in this state has a record av...</td>\n",
       "      <td>arizona</td>\n",
       "    </tr>\n",
       "    <tr>\n",
       "      <th>3</th>\n",
       "      <td>4680</td>\n",
       "      <td>2004-12-31</td>\n",
       "      <td>Jeopardy!</td>\n",
       "      <td>THE COMPANY LINE</td>\n",
       "      <td>$200</td>\n",
       "      <td>in 1963 live on the art linkletter show this c...</td>\n",
       "      <td>mcdonalds</td>\n",
       "    </tr>\n",
       "    <tr>\n",
       "      <th>4</th>\n",
       "      <td>4680</td>\n",
       "      <td>2004-12-31</td>\n",
       "      <td>Jeopardy!</td>\n",
       "      <td>EPITAPHS &amp; TRIBUTES</td>\n",
       "      <td>$200</td>\n",
       "      <td>signer of the dec of indep framer of the const...</td>\n",
       "      <td>john adams</td>\n",
       "    </tr>\n",
       "  </tbody>\n",
       "</table>\n",
       "</div>"
      ],
      "text/plain": [
       "   Show Number    Air Date      Round                         Category Value  \\\n",
       "0         4680  2004-12-31  Jeopardy!                          HISTORY  $200   \n",
       "1         4680  2004-12-31  Jeopardy!  ESPN's TOP 10 ALL-TIME ATHLETES  $200   \n",
       "2         4680  2004-12-31  Jeopardy!      EVERYBODY TALKS ABOUT IT...  $200   \n",
       "3         4680  2004-12-31  Jeopardy!                 THE COMPANY LINE  $200   \n",
       "4         4680  2004-12-31  Jeopardy!              EPITAPHS & TRIBUTES  $200   \n",
       "\n",
       "                                      clean_question clean_answer  \n",
       "0  for the last 8 years of his life galileo was u...   copernicus  \n",
       "1  no 2 1912 olympian football star at carlisle i...   jim thorpe  \n",
       "2  the city of yuma in this state has a record av...      arizona  \n",
       "3  in 1963 live on the art linkletter show this c...    mcdonalds  \n",
       "4  signer of the dec of indep framer of the const...   john adams  "
      ]
     },
     "execution_count": 32,
     "metadata": {},
     "output_type": "execute_result"
    }
   ],
   "source": [
    "# Removing uncleaned Columns Questions and Answer\n",
    "\n",
    "jeopardy = jeopardy.drop([\"Question\", \"Answer\"], axis=1)\n",
    "jeopardy.head(5)"
   ]
  },
  {
   "cell_type": "markdown",
   "metadata": {},
   "source": [
    "# B. Calculating repitition of Questions"
   ]
  },
  {
   "cell_type": "code",
   "execution_count": 33,
   "metadata": {},
   "outputs": [
    {
     "data": {
      "text/plain": [
       "0.8729646759744081"
      ]
     },
     "execution_count": 33,
     "metadata": {},
     "output_type": "execute_result"
    }
   ],
   "source": [
    "question_overlap = []\n",
    "terms_used = set()\n",
    "\n",
    "## Running the loop over the rows.\n",
    "\n",
    "for i, row in jeopardy.iterrows():\n",
    "    split_question = row[\"clean_question\"].split(\" \")\n",
    "    \n",
    "    # Keeping words with minimum 6 letters only.\n",
    "    split_question = [w for w in split_question if len(w) > 5]\n",
    "    \n",
    "    match_count = 0\n",
    "    \n",
    "    # Creating count of words in the split question list.\n",
    "    for word in split_question:\n",
    "        if word in terms_used:\n",
    "            match_count += 1\n",
    "            \n",
    "    for word in split_question:\n",
    "        terms_used.add(word)\n",
    "            \n",
    "    # Calculating percentage of words that occur in prevoius questions also.\n",
    "    if len(split_question) > 0:\n",
    "        match_count/=len(split_question)\n",
    "    question_overlap.append(match_count)\n",
    "        \n",
    "jeopardy[\"question_overlap\"] = question_overlap\n",
    "\n",
    "# Finding average repitition.\n",
    "jeopardy[\"question_overlap\"].mean()"
   ]
  },
  {
   "cell_type": "markdown",
   "metadata": {},
   "source": [
    "### This means that on average, 87.29% of words keep repeating.\n",
    "\n",
    "### Thus, we may improve our chances of winning greatly by preparing questions asked previously."
   ]
  },
  {
   "cell_type": "markdown",
   "metadata": {},
   "source": [
    "# C. Checking repititions by category."
   ]
  },
  {
   "cell_type": "code",
   "execution_count": 34,
   "metadata": {},
   "outputs": [
    {
     "data": {
      "text/plain": [
       "BEFORE & AFTER                       547\n",
       "SCIENCE                              519\n",
       "LITERATURE                           496\n",
       "AMERICAN HISTORY                     418\n",
       "POTPOURRI                            401\n",
       "WORLD HISTORY                        377\n",
       "WORD ORIGINS                         371\n",
       "COLLEGES & UNIVERSITIES              351\n",
       "HISTORY                              349\n",
       "SPORTS                               342\n",
       "U.S. CITIES                          339\n",
       "WORLD GEOGRAPHY                      338\n",
       "BODIES OF WATER                      327\n",
       "ANIMALS                              324\n",
       "STATE CAPITALS                       314\n",
       "BUSINESS & INDUSTRY                  311\n",
       "ISLANDS                              301\n",
       "WORLD CAPITALS                       300\n",
       "U.S. GEOGRAPHY                       299\n",
       "RELIGION                             297\n",
       "SHAKESPEARE                          294\n",
       "OPERA                                294\n",
       "LANGUAGES                            284\n",
       "BALLET                               282\n",
       "TELEVISION                           281\n",
       "FICTIONAL CHARACTERS                 280\n",
       "TRANSPORTATION                       279\n",
       "PEOPLE                               279\n",
       "RHYME TIME                           279\n",
       "ART & ARTISTS                        270\n",
       "                                    ... \n",
       "ROCK ICONS                             1\n",
       "WORDS IN LITERATURE                    1\n",
       "SPORTS PHRASES                         1\n",
       "AFRICAN RIVERS                         1\n",
       "AMERICAN FICTION WRITERS               1\n",
       "1980s BUSINESS                         1\n",
       "PLAGUES & PESTILENCE                   1\n",
       "FLYOVER COUNTRY                        1\n",
       "EXPLORING                              1\n",
       "20th CENTURY BESTSELLERS               1\n",
       "SUMMER OLYMPIC VENUES                  1\n",
       "COLLEGE HISTORY                        1\n",
       "WORLD OF TELEVISION                    1\n",
       "GREAT MOMENTS IN THE 20th CENTURY      1\n",
       "ROCK SONGS                             1\n",
       "RECORD SETTERS                         1\n",
       "TOP OF THE POP CHARTS                  1\n",
       "BUSY PRESIDENTS                        1\n",
       "19th CENTURY MEN                       1\n",
       "DANTE'S INFERNO                        1\n",
       "FILM HISTORY                           1\n",
       "19th CENTURY POLITICS                  1\n",
       "RECENT INNOVATIONS                     1\n",
       "THE NUCLEAR AGE                        1\n",
       "1999 ART NEWS                          1\n",
       "THE MUSICAL U.S.                       1\n",
       "CHARACTERS                             1\n",
       "CIVIL WAR                              1\n",
       "HISTORIC LISTS                         1\n",
       "POPULAR FICTION                        1\n",
       "Name: Category, Length: 27995, dtype: int64"
      ]
     },
     "execution_count": 34,
     "metadata": {},
     "output_type": "execute_result"
    }
   ],
   "source": [
    "# Fetching categories by their frequency.\n",
    "\n",
    "jeopardy[\"Category\"].value_counts()"
   ]
  },
  {
   "cell_type": "markdown",
   "metadata": {},
   "source": [
    "#### Given the large number of categories, it only makes sense if we calculate repititions for only the best categories."
   ]
  },
  {
   "cell_type": "code",
   "execution_count": 41,
   "metadata": {},
   "outputs": [
    {
     "data": {
      "text/plain": [
       "BEFORE & AFTER             547\n",
       "SCIENCE                    519\n",
       "LITERATURE                 496\n",
       "AMERICAN HISTORY           418\n",
       "POTPOURRI                  401\n",
       "WORLD HISTORY              377\n",
       "WORD ORIGINS               371\n",
       "COLLEGES & UNIVERSITIES    351\n",
       "HISTORY                    349\n",
       "SPORTS                     342\n",
       "Name: Category, dtype: int64"
      ]
     },
     "execution_count": 41,
     "metadata": {},
     "output_type": "execute_result"
    }
   ],
   "source": [
    "jeopardy[\"Category\"].value_counts()[:10]"
   ]
  },
  {
   "cell_type": "markdown",
   "metadata": {},
   "source": [
    "#### Fetching the above loop codes"
   ]
  },
  {
   "cell_type": "code",
   "execution_count": null,
   "metadata": {},
   "outputs": [],
   "source": [
    "question_overlap = []\n",
    "terms_used = set()\n",
    "\n",
    "## Running the loop over the rows.\n",
    "\n",
    "for i, row in jeopardy.iterrows():\n",
    "    split_question = row[\"clean_question\"].split(\" \")\n",
    "    \n",
    "    # Keeping words with minimum 6 letters only.\n",
    "    split_question = [w for w in split_question if len(w) > 5]\n",
    "    \n",
    "    match_count = 0\n",
    "    \n",
    "    # Creating count of words in the split question list.\n",
    "    for word in split_question:\n",
    "        if word in terms_used:\n",
    "            match_count += 1\n",
    "            \n",
    "    for word in split_question:\n",
    "        terms_used.add(word)\n",
    "            \n",
    "    # Calculating percentage of words that occur in prevoius questions also.\n",
    "    if len(split_question) > 0:\n",
    "        match_count/=len(split_question)\n",
    "    question_overlap.append(match_count)\n",
    "        \n",
    "jeopardy[\"question_overlap\"] = question_overlap"
   ]
  },
  {
   "cell_type": "markdown",
   "metadata": {},
   "source": [
    "#### Introducing filtering by category and finding word overlapping percentages"
   ]
  },
  {
   "cell_type": "code",
   "execution_count": 43,
   "metadata": {},
   "outputs": [
    {
     "data": {
      "text/plain": [
       "[0.911536229360727,\n",
       " 0.8882977379704683,\n",
       " 0.9047886757060144,\n",
       " 0.9459320564196726,\n",
       " 0.880296054734958]"
      ]
     },
     "execution_count": 43,
     "metadata": {},
     "output_type": "execute_result"
    }
   ],
   "source": [
    "# Finding average repitition.\n",
    "\n",
    "entries = [\"BEFORE & AFTER\", \"SCIENCE\", \"LITERATURE\", \"AMERICAN HISTORY\", \"POTPOURRI\"]\n",
    "entry_overlaps = []\n",
    "\n",
    "for entry in entries:\n",
    "    B = jeopardy[\"question_overlap\"][jeopardy[\"Category\"] == entry].mean()\n",
    "    entry_overlaps.append(B)\n",
    "    \n",
    "entry_overlaps"
   ]
  },
  {
   "cell_type": "markdown",
   "metadata": {},
   "source": [
    "### Hence, it can be seen that the category of questions that re-occurs the most in the game Jeopardy! is AMERICAN HISTORY"
   ]
  },
  {
   "cell_type": "code",
   "execution_count": null,
   "metadata": {},
   "outputs": [],
   "source": []
  }
 ],
 "metadata": {
  "kernelspec": {
   "display_name": "Python 3",
   "language": "python",
   "name": "python3"
  },
  "language_info": {
   "codemirror_mode": {
    "name": "ipython",
    "version": 3
   },
   "file_extension": ".py",
   "mimetype": "text/x-python",
   "name": "python",
   "nbconvert_exporter": "python",
   "pygments_lexer": "ipython3",
   "version": "3.6.4"
  }
 },
 "nbformat": 4,
 "nbformat_minor": 1
}
